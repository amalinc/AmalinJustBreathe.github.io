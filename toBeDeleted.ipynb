{
  "nbformat": 4,   
  "nbformat_minor": 0,
  "metadata": {
    "colab": {
      "provenance": [],
      "authorship_tag": "ABX9TyMZsXA1DJPc+95FCTEe+jbO",
      "include_colab_link": true
    },
    "kernelspec": {
      "name": "python3",
      "display_name": "Python 3"
    },
    "language_info": {
      "name": "python"
    }
  },
  "cells": [
    {
      "cell_type": "markdown",
      "metadata": {
        "id": "view-in-github",
        "colab_type": "text"
      },
      "source": [
        "<a href=\"https://colab.research.google.com/github/amalinc/AmalinJustBreathe.github.io/blob/master/Assignment1.ipynb\" target=\"_parent\"><img src=\"https://colab.research.google.com/assets/colab-badge.svg\" alt=\"Open In Colab\"/></a>"
      ]
    },
    {
      "cell_type": "code",
      "execution_count": null,
      "metadata": {
        "id": "VkM90Gpx82h6"
      },
      "outputs": [],
      "source": []
    },
    {
      "cell_type": "markdown",
      "source": [
        "This is a test for Github - adding more text"
      ],
      "metadata": {
        "id": "fhpHCQ4bNUh9"
      }
    },
    {
      "cell_type": "code",
      "source": [],
      "metadata": {
        "id": "VDuhInjFN8UC"
      },
      "execution_count": null,
      "outputs": []
    }
  ]
}
